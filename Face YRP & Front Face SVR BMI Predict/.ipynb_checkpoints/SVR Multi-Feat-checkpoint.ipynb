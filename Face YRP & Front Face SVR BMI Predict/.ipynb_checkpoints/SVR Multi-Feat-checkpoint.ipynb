{
 "cells": [
  {
   "cell_type": "code",
   "execution_count": 2,
   "metadata": {},
   "outputs": [],
   "source": [
    "import numpy as np\n",
    "import pandas as pd\n",
    "import matplotlib.pyplot as plt"
   ]
  },
  {
   "cell_type": "code",
   "execution_count": 3,
   "metadata": {},
   "outputs": [],
   "source": [
    "dataset = pd.read_csv('front_face.csv')"
   ]
  },
  {
   "cell_type": "code",
   "execution_count": 4,
   "metadata": {
    "scrolled": true
   },
   "outputs": [
    {
     "data": {
      "text/html": [
       "<div>\n",
       "<style scoped>\n",
       "    .dataframe tbody tr th:only-of-type {\n",
       "        vertical-align: middle;\n",
       "    }\n",
       "\n",
       "    .dataframe tbody tr th {\n",
       "        vertical-align: top;\n",
       "    }\n",
       "\n",
       "    .dataframe thead th {\n",
       "        text-align: right;\n",
       "    }\n",
       "</style>\n",
       "<table border=\"1\" class=\"dataframe\">\n",
       "  <thead>\n",
       "    <tr style=\"text-align: right;\">\n",
       "      <th></th>\n",
       "      <th>id</th>\n",
       "      <th>height</th>\n",
       "      <th>weight</th>\n",
       "      <th>bmi-gt</th>\n",
       "      <th>class-gt</th>\n",
       "      <th>CJWR</th>\n",
       "      <th>WHR</th>\n",
       "      <th>PAR</th>\n",
       "      <th>ES</th>\n",
       "      <th>FWR</th>\n",
       "      <th>MEH</th>\n",
       "      <th>CFR</th>\n",
       "    </tr>\n",
       "  </thead>\n",
       "  <tbody>\n",
       "    <tr>\n",
       "      <th>0</th>\n",
       "      <td>290079.jpg</td>\n",
       "      <td>1.65</td>\n",
       "      <td>97.52</td>\n",
       "      <td>35.82</td>\n",
       "      <td>d</td>\n",
       "      <td>1.19</td>\n",
       "      <td>1.64</td>\n",
       "      <td>0.02</td>\n",
       "      <td>44.50</td>\n",
       "      <td>1.38</td>\n",
       "      <td>36.34</td>\n",
       "      <td>45.37</td>\n",
       "    </tr>\n",
       "    <tr>\n",
       "      <th>1</th>\n",
       "      <td>290167.jpg</td>\n",
       "      <td>1.57</td>\n",
       "      <td>68.04</td>\n",
       "      <td>27.60</td>\n",
       "      <td>c</td>\n",
       "      <td>1.22</td>\n",
       "      <td>1.51</td>\n",
       "      <td>0.02</td>\n",
       "      <td>36.50</td>\n",
       "      <td>1.23</td>\n",
       "      <td>29.26</td>\n",
       "      <td>43.70</td>\n",
       "    </tr>\n",
       "    <tr>\n",
       "      <th>2</th>\n",
       "      <td>290173.jpg</td>\n",
       "      <td>1.63</td>\n",
       "      <td>62.14</td>\n",
       "      <td>23.39</td>\n",
       "      <td>b</td>\n",
       "      <td>1.24</td>\n",
       "      <td>1.57</td>\n",
       "      <td>0.03</td>\n",
       "      <td>32.51</td>\n",
       "      <td>1.30</td>\n",
       "      <td>24.35</td>\n",
       "      <td>35.59</td>\n",
       "    </tr>\n",
       "    <tr>\n",
       "      <th>3</th>\n",
       "      <td>290248.jpg</td>\n",
       "      <td>1.75</td>\n",
       "      <td>72.57</td>\n",
       "      <td>23.70</td>\n",
       "      <td>b</td>\n",
       "      <td>1.20</td>\n",
       "      <td>1.78</td>\n",
       "      <td>0.02</td>\n",
       "      <td>42.02</td>\n",
       "      <td>1.23</td>\n",
       "      <td>29.30</td>\n",
       "      <td>36.43</td>\n",
       "    </tr>\n",
       "    <tr>\n",
       "      <th>4</th>\n",
       "      <td>290250.jpg</td>\n",
       "      <td>1.88</td>\n",
       "      <td>94.35</td>\n",
       "      <td>26.69</td>\n",
       "      <td>c</td>\n",
       "      <td>1.23</td>\n",
       "      <td>1.66</td>\n",
       "      <td>0.02</td>\n",
       "      <td>43.00</td>\n",
       "      <td>1.28</td>\n",
       "      <td>25.92</td>\n",
       "      <td>40.13</td>\n",
       "    </tr>\n",
       "  </tbody>\n",
       "</table>\n",
       "</div>"
      ],
      "text/plain": [
       "           id  height  weight  bmi-gt class-gt  CJWR   WHR   PAR     ES   FWR  \\\n",
       "0  290079.jpg    1.65   97.52   35.82        d  1.19  1.64  0.02  44.50  1.38   \n",
       "1  290167.jpg    1.57   68.04   27.60        c  1.22  1.51  0.02  36.50  1.23   \n",
       "2  290173.jpg    1.63   62.14   23.39        b  1.24  1.57  0.03  32.51  1.30   \n",
       "3  290248.jpg    1.75   72.57   23.70        b  1.20  1.78  0.02  42.02  1.23   \n",
       "4  290250.jpg    1.88   94.35   26.69        c  1.23  1.66  0.02  43.00  1.28   \n",
       "\n",
       "     MEH    CFR  \n",
       "0  36.34  45.37  \n",
       "1  29.26  43.70  \n",
       "2  24.35  35.59  \n",
       "3  29.30  36.43  \n",
       "4  25.92  40.13  "
      ]
     },
     "execution_count": 4,
     "metadata": {},
     "output_type": "execute_result"
    }
   ],
   "source": [
    "dataset.head(5)"
   ]
  },
  {
   "cell_type": "code",
   "execution_count": 5,
   "metadata": {},
   "outputs": [
    {
     "data": {
      "text/plain": [
       "256"
      ]
     },
     "execution_count": 5,
     "metadata": {},
     "output_type": "execute_result"
    }
   ],
   "source": [
    "len(dataset)"
   ]
  },
  {
   "cell_type": "code",
   "execution_count": 6,
   "metadata": {},
   "outputs": [],
   "source": [
    "test_size = 0.2\n",
    "test_count = int(len(dataset) * test_size)"
   ]
  },
  {
   "cell_type": "code",
   "execution_count": 7,
   "metadata": {},
   "outputs": [],
   "source": [
    "raw_data = list(dataset.values)"
   ]
  },
  {
   "cell_type": "code",
   "execution_count": 8,
   "metadata": {},
   "outputs": [],
   "source": [
    "test_data = list()\n",
    "for _ in range(test_count):\n",
    "    pick_index = np.random.choice(len(raw_data), 1, replace=False)[0]\n",
    "    temp = list(raw_data.pop(pick_index))\n",
    "    test_data.append(temp)"
   ]
  },
  {
   "cell_type": "code",
   "execution_count": 9,
   "metadata": {},
   "outputs": [],
   "source": [
    "test_df = pd.DataFrame(columns=dataset.columns)\n",
    "for d in test_data:\n",
    "    test_df.loc[len(test_df)] = d"
   ]
  },
  {
   "cell_type": "code",
   "execution_count": 10,
   "metadata": {},
   "outputs": [],
   "source": [
    "train_df = pd.DataFrame(columns=dataset.columns)\n",
    "for d in raw_data:\n",
    "    train_df.loc[len(train_df)] = d"
   ]
  },
  {
   "cell_type": "code",
   "execution_count": 9,
   "metadata": {},
   "outputs": [],
   "source": [
    "feat_list = ['CJWR', 'WHR', 'PAR', 'ES', 'CFR']"
   ]
  },
  {
   "cell_type": "code",
   "execution_count": 10,
   "metadata": {},
   "outputs": [
    {
     "ename": "NameError",
     "evalue": "name 'train_df' is not defined",
     "output_type": "error",
     "traceback": [
      "\u001b[1;31m---------------------------------------------------------------------------\u001b[0m",
      "\u001b[1;31mNameError\u001b[0m                                 Traceback (most recent call last)",
      "\u001b[1;32m<ipython-input-10-b3ec4fb0ba70>\u001b[0m in \u001b[0;36m<module>\u001b[1;34m\u001b[0m\n\u001b[1;32m----> 1\u001b[1;33m \u001b[0mx_train\u001b[0m \u001b[1;33m=\u001b[0m \u001b[0mtrain_df\u001b[0m\u001b[1;33m.\u001b[0m\u001b[0mloc\u001b[0m\u001b[1;33m[\u001b[0m\u001b[1;33m:\u001b[0m\u001b[1;33m,\u001b[0m \u001b[0mfeat_list\u001b[0m\u001b[1;33m]\u001b[0m\u001b[1;33m.\u001b[0m\u001b[0mvalues\u001b[0m\u001b[1;33m\u001b[0m\u001b[1;33m\u001b[0m\u001b[0m\n\u001b[0m\u001b[0;32m      2\u001b[0m \u001b[0my_train\u001b[0m \u001b[1;33m=\u001b[0m \u001b[0mtrain_df\u001b[0m\u001b[1;33m.\u001b[0m\u001b[0mloc\u001b[0m\u001b[1;33m[\u001b[0m\u001b[1;33m:\u001b[0m\u001b[1;33m,\u001b[0m \u001b[1;34m'bmi-gt'\u001b[0m\u001b[1;33m]\u001b[0m\u001b[1;33m.\u001b[0m\u001b[0mvalues\u001b[0m\u001b[1;33m\u001b[0m\u001b[1;33m\u001b[0m\u001b[0m\n",
      "\u001b[1;31mNameError\u001b[0m: name 'train_df' is not defined"
     ]
    }
   ],
   "source": [
    "x_train = train_df.loc[:, feat_list].values\n",
    "y_train = train_df.loc[:, 'bmi-gt'].values"
   ]
  },
  {
   "cell_type": "code",
   "execution_count": 12,
   "metadata": {},
   "outputs": [],
   "source": [
    "x_test = test_df.loc[:, feat_list].values\n",
    "y_test = test_df.loc[:, 'bmi-gt'].values"
   ]
  },
  {
   "cell_type": "code",
   "execution_count": 13,
   "metadata": {},
   "outputs": [
    {
     "data": {
      "text/plain": [
       "51"
      ]
     },
     "execution_count": 13,
     "metadata": {},
     "output_type": "execute_result"
    }
   ],
   "source": [
    "len(y_test)"
   ]
  },
  {
   "cell_type": "code",
   "execution_count": 14,
   "metadata": {},
   "outputs": [],
   "source": [
    "from sklearn.preprocessing import StandardScaler"
   ]
  },
  {
   "cell_type": "code",
   "execution_count": 15,
   "metadata": {},
   "outputs": [],
   "source": [
    "sc_X = StandardScaler()\n",
    "sc_Y = StandardScaler()"
   ]
  },
  {
   "cell_type": "code",
   "execution_count": 16,
   "metadata": {},
   "outputs": [],
   "source": [
    "# x_train = sc_X.fit_transform(x_train)\n",
    "# y_train = sc_Y.fit_transform(y_train)"
   ]
  },
  {
   "cell_type": "code",
   "execution_count": null,
   "metadata": {},
   "outputs": [],
   "source": []
  },
  {
   "cell_type": "code",
   "execution_count": 17,
   "metadata": {},
   "outputs": [],
   "source": [
    "from sklearn.svm import SVR"
   ]
  },
  {
   "cell_type": "code",
   "execution_count": 18,
   "metadata": {},
   "outputs": [
    {
     "data": {
      "text/plain": [
       "SVR(C=1.0, cache_size=200, coef0=0.0, degree=3, epsilon=0.1, gamma='scale',\n",
       "    kernel='rbf', max_iter=-1, shrinking=True, tol=0.001, verbose=False)"
      ]
     },
     "execution_count": 18,
     "metadata": {},
     "output_type": "execute_result"
    }
   ],
   "source": [
    "regressor = SVR(kernel='rbf')\n",
    "regressor.fit(x_train, y_train)"
   ]
  },
  {
   "cell_type": "code",
   "execution_count": 19,
   "metadata": {},
   "outputs": [],
   "source": [
    "test_pred_y = regressor.predict(x_test)"
   ]
  },
  {
   "cell_type": "code",
   "execution_count": 25,
   "metadata": {},
   "outputs": [],
   "source": [
    "predict_result = list(test_pred_y)"
   ]
  },
  {
   "cell_type": "code",
   "execution_count": 26,
   "metadata": {},
   "outputs": [],
   "source": [
    "ground_truth = list(y_test)"
   ]
  },
  {
   "cell_type": "markdown",
   "metadata": {},
   "source": [
    "## CFR 臉部特徵 SVR "
   ]
  },
  {
   "cell_type": "code",
   "execution_count": 31,
   "metadata": {},
   "outputs": [
    {
     "name": "stdout",
     "output_type": "stream",
     "text": [
      "0.03411764705882352\n"
     ]
    }
   ],
   "source": [
    "error = []\n",
    "for pred, fact in zip(predict_result, ground_truth):\n",
    "    dev = pred - fact\n",
    "    bias = round(dev / fact, 2)\n",
    "#     print(bias)\n",
    "    error.append(bias)\n",
    "\n",
    "print(np.mean(error))"
   ]
  },
  {
   "cell_type": "code",
   "execution_count": null,
   "metadata": {},
   "outputs": [],
   "source": []
  },
  {
   "cell_type": "code",
   "execution_count": null,
   "metadata": {},
   "outputs": [],
   "source": []
  }
 ],
 "metadata": {
  "kernelspec": {
   "display_name": "Python 3",
   "language": "python",
   "name": "python3"
  },
  "language_info": {
   "codemirror_mode": {
    "name": "ipython",
    "version": 3
   },
   "file_extension": ".py",
   "mimetype": "text/x-python",
   "name": "python",
   "nbconvert_exporter": "python",
   "pygments_lexer": "ipython3",
   "version": "3.7.7"
  }
 },
 "nbformat": 4,
 "nbformat_minor": 4
}
